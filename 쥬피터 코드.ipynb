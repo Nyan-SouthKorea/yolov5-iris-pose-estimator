{
 "cells": [
  {
   "cell_type": "code",
   "execution_count": 1,
   "id": "93d22d3e",
   "metadata": {},
   "outputs": [],
   "source": [
    "# 사진 랜덤 1000장 분류\n",
    "\n",
    "import os\n",
    "import cv2\n",
    "import random\n",
    "path = 'C:/Users/nyan/Desktop/lfw'\n",
    "write_path = 'C:/Users/nyan/Desktop/write'\n",
    "name_list = os.listdir(path)\n",
    "for i in range(1000):\n",
    "    index_no = len(name_list) * random.random()\n",
    "    index_no -= 1\n",
    "    index_no = int(index_no)\n",
    "    img = cv2.imread('{}/{}'.format(path, name_list[index_no]))\n",
    "    cv2.imwrite('{}/{}.jpg'.format(write_path, i), img)\n",
    "    cv2.imshow('img', img)\n",
    "    cv2.waitKey(1)\n",
    "    del name_list[index_no]\n",
    "cv2.destroyAllWindows()\n",
    "\n"
   ]
  },
  {
   "cell_type": "code",
   "execution_count": 47,
   "id": "30e2c63c",
   "metadata": {},
   "outputs": [
    {
     "name": "stdout",
     "output_type": "stream",
     "text": [
      "0.809717224547246\n"
     ]
    }
   ],
   "source": [
    "import random\n",
    "\n",
    "a = random.random()\n",
    "print(a)"
   ]
  },
  {
   "cell_type": "code",
   "execution_count": null,
   "id": "f9f57656",
   "metadata": {},
   "outputs": [],
   "source": [
    "import cv2\n",
    "import os\n",
    "import traceback\n",
    "filepath = 'D:/20220414_yolo_custum_train/close_video/close_'\n",
    "start_cnt = 1\n",
    "end_cnt = 25\n",
    "write_path = 'D:/20220414_yolo_custum_train/close_img'\n",
    "file_name_cnt = 0\n",
    "while not start_cnt > end_cnt:\n",
    "    try: \n",
    "        video = cv2.VideoCapture('{}{}.mp4'.format(filepath, start_cnt)) #'' 사이에 사용할 비디오 파일의 경로 및 이름을 넣어주도록 함\n",
    "        if not video.isOpened():\n",
    "            print(\"Could not Open :\", filepath)\n",
    "            exit(0)\n",
    "        cnt_fps = 0\n",
    "        fps_per_sec = 20\n",
    "        while(video.isOpened()):\n",
    "            ret, image = video.read()\n",
    "            if cnt_fps >= fps_per_sec:\n",
    "                cnt_fps = 0\n",
    "                cv2.imwrite(('{}/img{}.png'.format(write_path, file_name_cnt)), image)\n",
    "                cv2.imshow('cam', image)\n",
    "                cv2.waitKey(1)\n",
    "                print('Saved frame number :', str(int(video.get(1))))\n",
    "                print(file_name_cnt)\n",
    "                file_name_cnt += 1\n",
    "            cnt_fps += 1   \n",
    "        video.release()\n",
    "        start_cnt += 1\n",
    "    except Exception as e:\n",
    "        print('에러 발생: \\n{}'.format(traceback.format_exc()))\n",
    "        start_cnt += 1"
   ]
  },
  {
   "cell_type": "code",
   "execution_count": 7,
   "id": "08df2629",
   "metadata": {},
   "outputs": [
    {
     "name": "stdout",
     "output_type": "stream",
     "text": [
      "에러 발생: \n",
      "Traceback (most recent call last):\n",
      "  File \"C:\\Users\\nyan\\AppData\\Local\\Temp\\ipykernel_4040\\771073258.py\", line 20, in <cell line: 11>\n",
      "    cv2.imwrite('{}/{}.jpg'.format(write_path, img_name), img)\n",
      "cv2.error: OpenCV(4.5.5) D:\\a\\opencv-python\\opencv-python\\opencv\\modules\\imgcodecs\\src\\loadsave.cpp:801: error: (-215:Assertion failed) !_img.empty() in function 'cv::imwrite'\n",
      "\n",
      "\n",
      "에러 발생: \n",
      "Traceback (most recent call last):\n",
      "  File \"C:\\Users\\nyan\\AppData\\Local\\Temp\\ipykernel_4040\\771073258.py\", line 20, in <cell line: 11>\n",
      "    cv2.imwrite('{}/{}.jpg'.format(write_path, img_name), img)\n",
      "cv2.error: OpenCV(4.5.5) D:\\a\\opencv-python\\opencv-python\\opencv\\modules\\imgcodecs\\src\\loadsave.cpp:801: error: (-215:Assertion failed) !_img.empty() in function 'cv::imwrite'\n",
      "\n",
      "\n"
     ]
    }
   ],
   "source": [
    "import cv2\n",
    "import os\n",
    "import traceback\n",
    "\n",
    "read_path = 'C:/Users/nyan/Desktop/데이터셋 제작/비디오'\n",
    "write_path = 'C:/Users/nyan/Desktop/test'\n",
    "frame_jump = 10\n",
    "img_name = 0\n",
    "\n",
    "video_list = os.listdir(read_path)\n",
    "for video_name in video_list:\n",
    "    try:\n",
    "        video = cv2.VideoCapture('{}/{}'.format(read_path, video_name))\n",
    "        if video.isOpened():\n",
    "            cnt = 0\n",
    "            while video.isOpened():\n",
    "                ret, img = video.read()\n",
    "                if cnt == frame_jump:\n",
    "                    cnt = 0\n",
    "                    cv2.imwrite('{}/{}.jpg'.format(write_path, img_name), img)\n",
    "                    cv2.imshow('img', img)\n",
    "                    cv2.waitKey(1)\n",
    "                    img = 0\n",
    "                    img_name += 1\n",
    "                cnt += 1\n",
    "            video.release()\n",
    "    except Exception as e:\n",
    "        print('에러 발생: \\n{}'.format(traceback.format_exc()))\n"
   ]
  },
  {
   "cell_type": "code",
   "execution_count": null,
   "id": "d0f4a065",
   "metadata": {},
   "outputs": [],
   "source": []
  },
  {
   "cell_type": "code",
   "execution_count": null,
   "id": "4960fa3b",
   "metadata": {},
   "outputs": [],
   "source": []
  },
  {
   "cell_type": "code",
   "execution_count": null,
   "id": "40016242",
   "metadata": {},
   "outputs": [],
   "source": []
  },
  {
   "cell_type": "code",
   "execution_count": null,
   "id": "5d9e7796",
   "metadata": {},
   "outputs": [],
   "source": []
  },
  {
   "cell_type": "code",
   "execution_count": null,
   "id": "cf272170",
   "metadata": {},
   "outputs": [],
   "source": []
  },
  {
   "cell_type": "code",
   "execution_count": null,
   "id": "91eb1c4e",
   "metadata": {},
   "outputs": [],
   "source": []
  },
  {
   "cell_type": "code",
   "execution_count": null,
   "id": "deb802c5",
   "metadata": {},
   "outputs": [],
   "source": []
  },
  {
   "cell_type": "code",
   "execution_count": null,
   "id": "1db20ba5",
   "metadata": {},
   "outputs": [],
   "source": []
  }
 ],
 "metadata": {
  "kernelspec": {
   "display_name": "env1",
   "language": "python",
   "name": "env1"
  },
  "language_info": {
   "codemirror_mode": {
    "name": "ipython",
    "version": 3
   },
   "file_extension": ".py",
   "mimetype": "text/x-python",
   "name": "python",
   "nbconvert_exporter": "python",
   "pygments_lexer": "ipython3",
   "version": "3.8.13"
  }
 },
 "nbformat": 4,
 "nbformat_minor": 5
}
